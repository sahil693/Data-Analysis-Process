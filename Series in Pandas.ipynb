{
 "cells": [
  {
   "cell_type": "markdown",
   "id": "04660a2d",
   "metadata": {},
   "source": [
    "# Importing Pandas"
   ]
  },
  {
   "cell_type": "code",
   "execution_count": 194,
   "id": "a21b5552",
   "metadata": {},
   "outputs": [],
   "source": [
    "import numpy as np \n",
    "import pandas as pd "
   ]
  },
  {
   "cell_type": "markdown",
   "id": "89ee9c96",
   "metadata": {},
   "source": [
    "# Series from lists"
   ]
  },
  {
   "cell_type": "code",
   "execution_count": 195,
   "id": "260bd433",
   "metadata": {},
   "outputs": [
    {
     "data": {
      "text/plain": [
       "0       India\n",
       "1    Pakistan\n",
       "2         USA\n",
       "3       Nepal\n",
       "4    Srilanka\n",
       "Name: Name of Countries, dtype: object"
      ]
     },
     "execution_count": 195,
     "metadata": {},
     "output_type": "execute_result"
    }
   ],
   "source": [
    "country =['India','Pakistan','USA','Nepal','Srilanka']\n",
    "pd.Series(country,name=\"Name of Countries\")"
   ]
  },
  {
   "cell_type": "code",
   "execution_count": 196,
   "id": "f440261c",
   "metadata": {},
   "outputs": [],
   "source": [
    "#custom index"
   ]
  },
  {
   "cell_type": "code",
   "execution_count": 197,
   "id": "bd66e6bb",
   "metadata": {},
   "outputs": [
    {
     "data": {
      "text/plain": [
       "maths       67\n",
       "english     57\n",
       "science     89\n",
       "hindi      100\n",
       "Name: Sahil ke Marks, dtype: int64"
      ]
     },
     "execution_count": 197,
     "metadata": {},
     "output_type": "execute_result"
    }
   ],
   "source": [
    "marks=[67,57,89,100]\n",
    "subjects=['maths','english','science','hindi']\n",
    "pd.Series(marks,index=subjects,name=\"Sahil ke Marks\")"
   ]
  },
  {
   "cell_type": "markdown",
   "id": "dd3e61d6",
   "metadata": {},
   "source": [
    "# Series from Dictionary"
   ]
  },
  {
   "cell_type": "code",
   "execution_count": 198,
   "id": "c0dfca6d",
   "metadata": {},
   "outputs": [],
   "source": [
    "marks={'maths':67,'english':57,'science':89,'hindi':100}\n",
    "marks_series=pd.Series(marks,name=\"Sahil ke Marks\")"
   ]
  },
  {
   "cell_type": "markdown",
   "id": "d9df8eed",
   "metadata": {},
   "source": [
    "# Series Attributes"
   ]
  },
  {
   "cell_type": "code",
   "execution_count": 199,
   "id": "86c783df",
   "metadata": {},
   "outputs": [
    {
     "data": {
      "text/plain": [
       "4"
      ]
     },
     "execution_count": 199,
     "metadata": {},
     "output_type": "execute_result"
    }
   ],
   "source": [
    "#size\n",
    "marks_series.size"
   ]
  },
  {
   "cell_type": "code",
   "execution_count": 200,
   "id": "3159c561",
   "metadata": {},
   "outputs": [
    {
     "data": {
      "text/plain": [
       "dtype('int64')"
      ]
     },
     "execution_count": 200,
     "metadata": {},
     "output_type": "execute_result"
    }
   ],
   "source": [
    "#dtypes\n",
    "marks_series.dtype"
   ]
  },
  {
   "cell_type": "code",
   "execution_count": 201,
   "id": "936af1f7",
   "metadata": {},
   "outputs": [
    {
     "data": {
      "text/plain": [
       "'Sahil ke Marks'"
      ]
     },
     "execution_count": 201,
     "metadata": {},
     "output_type": "execute_result"
    }
   ],
   "source": [
    "#name\n",
    "marks_series.name"
   ]
  },
  {
   "cell_type": "code",
   "execution_count": 202,
   "id": "c929f88c",
   "metadata": {},
   "outputs": [
    {
     "data": {
      "text/plain": [
       "True"
      ]
     },
     "execution_count": 202,
     "metadata": {},
     "output_type": "execute_result"
    }
   ],
   "source": [
    "#is_unique\n",
    "marks_series.is_unique"
   ]
  },
  {
   "cell_type": "code",
   "execution_count": 203,
   "id": "c7931352",
   "metadata": {},
   "outputs": [
    {
     "data": {
      "text/plain": [
       "Index(['maths', 'english', 'science', 'hindi'], dtype='object')"
      ]
     },
     "execution_count": 203,
     "metadata": {},
     "output_type": "execute_result"
    }
   ],
   "source": [
    "#index\n",
    "marks_series.index"
   ]
  },
  {
   "cell_type": "code",
   "execution_count": 204,
   "id": "bb830a1a",
   "metadata": {},
   "outputs": [
    {
     "data": {
      "text/plain": [
       "array([ 67,  57,  89, 100], dtype=int64)"
      ]
     },
     "execution_count": 204,
     "metadata": {},
     "output_type": "execute_result"
    }
   ],
   "source": [
    "#value\n",
    "marks_series.values"
   ]
  },
  {
   "cell_type": "markdown",
   "id": "929c0ef0",
   "metadata": {},
   "source": [
    "# Series using read_csv"
   ]
  },
  {
   "cell_type": "code",
   "execution_count": 205,
   "id": "2f5e7c4d",
   "metadata": {},
   "outputs": [
    {
     "data": {
      "text/plain": [
       "0       48\n",
       "1       57\n",
       "2       40\n",
       "3       43\n",
       "4       44\n",
       "      ... \n",
       "360    231\n",
       "361    226\n",
       "362    155\n",
       "363    144\n",
       "364    172\n",
       "Name: Subscribers gained, Length: 365, dtype: int64"
      ]
     },
     "execution_count": 205,
     "metadata": {},
     "output_type": "execute_result"
    }
   ],
   "source": [
    "#with one col\n",
    "subs=pd.read_csv('subs.csv').squeeze()\n",
    "type(subs)\n",
    "subs"
   ]
  },
  {
   "cell_type": "code",
   "execution_count": 206,
   "id": "0453c8ab",
   "metadata": {},
   "outputs": [
    {
     "data": {
      "text/plain": [
       "movie\n",
       "Uri: The Surgical Strike                   Vicky Kaushal\n",
       "Battalion 609                                Vicky Ahuja\n",
       "The Accidental Prime Minister (film)         Anupam Kher\n",
       "Why Cheat India                            Emraan Hashmi\n",
       "Evening Shadows                         Mona Ambegaonkar\n",
       "                                              ...       \n",
       "Hum Tumhare Hain Sanam                    Shah Rukh Khan\n",
       "Aankhen (2002 film)                     Amitabh Bachchan\n",
       "Saathiya (film)                             Vivek Oberoi\n",
       "Company (film)                                Ajay Devgn\n",
       "Awara Paagal Deewana                        Akshay Kumar\n",
       "Name: lead, Length: 1500, dtype: object"
      ]
     },
     "execution_count": 206,
     "metadata": {},
     "output_type": "execute_result"
    }
   ],
   "source": [
    "import pandas as pd\n",
    "movies=pd.read_csv('bollywood.csv',index_col='movie').squeeze()\n",
    "type(movies)\n",
    "movies"
   ]
  },
  {
   "cell_type": "code",
   "execution_count": 207,
   "id": "33f89bf5",
   "metadata": {},
   "outputs": [
    {
     "data": {
      "text/plain": [
       "pandas.core.series.Series"
      ]
     },
     "execution_count": 207,
     "metadata": {},
     "output_type": "execute_result"
    }
   ],
   "source": [
    "type(movies.squeeze())"
   ]
  },
  {
   "cell_type": "code",
   "execution_count": 208,
   "id": "9981ee43",
   "metadata": {},
   "outputs": [
    {
     "data": {
      "text/plain": [
       "Akshay Kumar        48\n",
       "Amitabh Bachchan    45\n",
       "Ajay Devgn          38\n",
       "Salman Khan         31\n",
       "Sanjay Dutt         26\n",
       "Name: lead, dtype: int64"
      ]
     },
     "execution_count": 208,
     "metadata": {},
     "output_type": "execute_result"
    }
   ],
   "source": [
    "#value_counts->movies\n",
    "movies.value_counts().head(5)"
   ]
  },
  {
   "cell_type": "code",
   "execution_count": 209,
   "id": "556d2175",
   "metadata": {
    "scrolled": true
   },
   "outputs": [
    {
     "data": {
      "text/plain": [
       "movie\n",
       "Qaidi Band                            Aadar Jain\n",
       "Roar: Tigers of the Sundarbans      Aadil Chahal\n",
       "Lipstick Under My Burkha            Aahana Kumra\n",
       "Raat Gayi Baat Gayi?                Aamir Bashir\n",
       "Talaash: The Answer Lies Within       Aamir Khan\n",
       "                                        ...     \n",
       "Dil Toh Deewana Hai                  Zeenat Aman\n",
       "Sallu Ki Shaadi                      Zeenat Aman\n",
       "Strings of Passion                   Zeenat Aman\n",
       "Dunno Y... Na Jaane Kyon             Zeenat Aman\n",
       "Taj Mahal: An Eternal Love Story     Zulfi Sayed\n",
       "Name: lead, Length: 1500, dtype: object"
      ]
     },
     "execution_count": 209,
     "metadata": {},
     "output_type": "execute_result"
    }
   ],
   "source": [
    "#sort_values ->inplace\n",
    "movies.sort_values()\n"
   ]
  },
  {
   "cell_type": "code",
   "execution_count": 210,
   "id": "f99b6656",
   "metadata": {},
   "outputs": [],
   "source": [
    "#inplace makes permanent changes in series data"
   ]
  },
  {
   "cell_type": "code",
   "execution_count": 211,
   "id": "e737f8e5",
   "metadata": {},
   "outputs": [
    {
     "data": {
      "text/plain": [
       "movie\n",
       "Uri: The Surgical Strike                   Vicky Kaushal\n",
       "Battalion 609                                Vicky Ahuja\n",
       "The Accidental Prime Minister (film)         Anupam Kher\n",
       "Why Cheat India                            Emraan Hashmi\n",
       "Evening Shadows                         Mona Ambegaonkar\n",
       "                                              ...       \n",
       "Hum Tumhare Hain Sanam                    Shah Rukh Khan\n",
       "Aankhen (2002 film)                     Amitabh Bachchan\n",
       "Saathiya (film)                             Vivek Oberoi\n",
       "Company (film)                                Ajay Devgn\n",
       "Awara Paagal Deewana                        Akshay Kumar\n",
       "Name: lead, Length: 1500, dtype: object"
      ]
     },
     "execution_count": 211,
     "metadata": {},
     "output_type": "execute_result"
    }
   ],
   "source": [
    "movies"
   ]
  },
  {
   "cell_type": "code",
   "execution_count": 212,
   "id": "9a064bac",
   "metadata": {},
   "outputs": [
    {
     "data": {
      "text/plain": [
       "0       48\n",
       "1       57\n",
       "2       40\n",
       "3       43\n",
       "4       44\n",
       "      ... \n",
       "360    231\n",
       "361    226\n",
       "362    155\n",
       "363    144\n",
       "364    172\n",
       "Name: Subscribers gained, Length: 365, dtype: int64"
      ]
     },
     "execution_count": 212,
     "metadata": {},
     "output_type": "execute_result"
    }
   ],
   "source": [
    "subs.sort_values()\n",
    "subs"
   ]
  },
  {
   "cell_type": "code",
   "execution_count": 213,
   "id": "b7ea417b",
   "metadata": {},
   "outputs": [
    {
     "data": {
      "text/plain": [
       "0       48\n",
       "1       57\n",
       "2       40\n",
       "3       43\n",
       "4       44\n",
       "      ... \n",
       "360    231\n",
       "361    226\n",
       "362    155\n",
       "363    144\n",
       "364    172\n",
       "Name: Subscribers gained, Length: 365, dtype: int64"
      ]
     },
     "execution_count": 213,
     "metadata": {},
     "output_type": "execute_result"
    }
   ],
   "source": [
    "subs\n"
   ]
  },
  {
   "cell_type": "code",
   "execution_count": 214,
   "id": "9a8d3a26",
   "metadata": {},
   "outputs": [],
   "source": [
    "#sort_index->inplace->movies\n",
    "movies.sort_index(inplace=True)\n"
   ]
  },
  {
   "cell_type": "code",
   "execution_count": 215,
   "id": "8a40970c",
   "metadata": {},
   "outputs": [
    {
     "data": {
      "text/plain": [
       "movie\n",
       "1920 (film)                   Rajniesh Duggall\n",
       "1920: London                     Sharman Joshi\n",
       "1920: The Evil Returns             Vicky Ahuja\n",
       "1971 (2007 film)                Manoj Bajpayee\n",
       "2 States (2014 film)              Arjun Kapoor\n",
       "                                   ...        \n",
       "Zindagi 50-50                      Veena Malik\n",
       "Zindagi Na Milegi Dobara        Hrithik Roshan\n",
       "Zindagi Tere Naam           Mithun Chakraborty\n",
       "Zokkomon                       Darsheel Safary\n",
       "Zor Lagaa Ke...Haiya!            Meghan Jadhav\n",
       "Name: lead, Length: 1500, dtype: object"
      ]
     },
     "execution_count": 215,
     "metadata": {},
     "output_type": "execute_result"
    }
   ],
   "source": [
    "movies"
   ]
  },
  {
   "cell_type": "code",
   "execution_count": 216,
   "id": "2a171f6b",
   "metadata": {},
   "outputs": [
    {
     "data": {
      "text/plain": [
       "49510"
      ]
     },
     "execution_count": 216,
     "metadata": {},
     "output_type": "execute_result"
    }
   ],
   "source": [
    "#sum->product\n",
    "subs.sum()\n"
   ]
  },
  {
   "cell_type": "code",
   "execution_count": 217,
   "id": "46744ab1",
   "metadata": {},
   "outputs": [
    {
     "ename": "NameError",
     "evalue": "name 'd' is not defined",
     "output_type": "error",
     "traceback": [
      "\u001b[1;31m---------------------------------------------------------------------------\u001b[0m",
      "\u001b[1;31mNameError\u001b[0m                                 Traceback (most recent call last)",
      "Cell \u001b[1;32mIn[217], line 3\u001b[0m\n\u001b[0;32m      1\u001b[0m \u001b[38;5;66;03m#mean-:median->mode->std->var\u001b[39;00m\n\u001b[0;32m      2\u001b[0m subs\u001b[38;5;241m.\u001b[39mmean()\n\u001b[1;32m----> 3\u001b[0m \u001b[43md\u001b[49m\n\u001b[0;32m      4\u001b[0m movies\u001b[38;5;241m.\u001b[39mmode()\n\u001b[0;32m      5\u001b[0m subs\u001b[38;5;241m.\u001b[39mstd()\n",
      "\u001b[1;31mNameError\u001b[0m: name 'd' is not defined"
     ]
    }
   ],
   "source": [
    "#mean-:median->mode->std->var\n",
    "subs.mean()\n",
    "\n",
    "movies.mode()\n",
    "subs.std()\n",
    "subs.var()"
   ]
  },
  {
   "cell_type": "code",
   "execution_count": 218,
   "id": "2eafe88d",
   "metadata": {},
   "outputs": [
    {
     "data": {
      "text/plain": [
       "33"
      ]
     },
     "execution_count": 218,
     "metadata": {},
     "output_type": "execute_result"
    }
   ],
   "source": [
    "#min/max\n",
    "subs.max()\n",
    "subs.min()"
   ]
  },
  {
   "cell_type": "code",
   "execution_count": 219,
   "id": "9d5dee7d",
   "metadata": {},
   "outputs": [
    {
     "data": {
      "text/plain": [
       "count    365.000000\n",
       "mean     135.643836\n",
       "std       62.675023\n",
       "min       33.000000\n",
       "25%       88.000000\n",
       "50%      123.000000\n",
       "75%      177.000000\n",
       "max      396.000000\n",
       "Name: Subscribers gained, dtype: float64"
      ]
     },
     "execution_count": 219,
     "metadata": {},
     "output_type": "execute_result"
    }
   ],
   "source": [
    "#describe\n",
    "subs.describe()"
   ]
  },
  {
   "cell_type": "code",
   "execution_count": 220,
   "id": "2dbd4303",
   "metadata": {},
   "outputs": [
    {
     "data": {
      "text/plain": [
       "count             1500\n",
       "unique             566\n",
       "top       Akshay Kumar\n",
       "freq                48\n",
       "Name: lead, dtype: object"
      ]
     },
     "execution_count": 220,
     "metadata": {},
     "output_type": "execute_result"
    }
   ],
   "source": [
    "movies.describe()"
   ]
  },
  {
   "cell_type": "markdown",
   "id": "66a802b8",
   "metadata": {},
   "source": [
    "# Series Indexing"
   ]
  },
  {
   "cell_type": "code",
   "execution_count": 221,
   "id": "8a863ddb",
   "metadata": {},
   "outputs": [
    {
     "data": {
      "text/plain": [
       "79"
      ]
     },
     "execution_count": 221,
     "metadata": {},
     "output_type": "execute_result"
    }
   ],
   "source": [
    "x=pd.Series([12,13,14,35,46,57,58,79,9])\n",
    "x[7]"
   ]
  },
  {
   "cell_type": "code",
   "execution_count": 222,
   "id": "af4edad1",
   "metadata": {},
   "outputs": [
    {
     "data": {
      "text/plain": [
       "'Meghan Jadhav'"
      ]
     },
     "execution_count": 222,
     "metadata": {},
     "output_type": "execute_result"
    }
   ],
   "source": [
    "#negative indexing gives error but works where index is string \n",
    "#x[-3]\n",
    "movies[-1]"
   ]
  },
  {
   "cell_type": "code",
   "execution_count": 245,
   "id": "38c80868",
   "metadata": {},
   "outputs": [
    {
     "data": {
      "text/plain": [
       "match_no\n",
       "6      9\n",
       "7     34\n",
       "8      0\n",
       "9     21\n",
       "10     3\n",
       "11    10\n",
       "12    38\n",
       "13     3\n",
       "14    11\n",
       "15    50\n",
       "16     2\n",
       "Name: runs, dtype: int64"
      ]
     },
     "execution_count": 245,
     "metadata": {},
     "output_type": "execute_result"
    }
   ],
   "source": [
    "#slicing \n",
    "import pandas as pd\n",
    "vk=pd.read_csv('kohli_ipl.csv',index_col='match_no').squeeze()\n",
    "vk[5:16]"
   ]
  },
  {
   "cell_type": "code",
   "execution_count": 246,
   "id": "77e00f4f",
   "metadata": {},
   "outputs": [
    {
     "data": {
      "text/plain": [
       "match_no\n",
       "211     0\n",
       "212    20\n",
       "213    73\n",
       "214    25\n",
       "215     7\n",
       "Name: runs, dtype: int64"
      ]
     },
     "execution_count": 246,
     "metadata": {},
     "output_type": "execute_result"
    }
   ],
   "source": [
    "vk[-5:]"
   ]
  },
  {
   "cell_type": "code",
   "execution_count": 247,
   "id": "b34007c6",
   "metadata": {},
   "outputs": [
    {
     "data": {
      "text/plain": [
       "movie\n",
       "Zindagi 50-50                      Veena Malik\n",
       "Zindagi Na Milegi Dobara        Hrithik Roshan\n",
       "Zindagi Tere Naam           Mithun Chakraborty\n",
       "Zokkomon                       Darsheel Safary\n",
       "Zor Lagaa Ke...Haiya!            Meghan Jadhav\n",
       "Name: lead, dtype: object"
      ]
     },
     "execution_count": 247,
     "metadata": {},
     "output_type": "execute_result"
    }
   ],
   "source": [
    "movies[-5:]"
   ]
  },
  {
   "cell_type": "code",
   "execution_count": 251,
   "id": "4018d983",
   "metadata": {},
   "outputs": [
    {
     "data": {
      "text/plain": [
       "match_no\n",
       "1     1\n",
       "3    13\n",
       "4    12\n",
       "5     1\n",
       "Name: runs, dtype: int64"
      ]
     },
     "execution_count": 251,
     "metadata": {},
     "output_type": "execute_result"
    }
   ],
   "source": [
    "#fancing indexing \n",
    "vk[[1,3,4,5]]"
   ]
  },
  {
   "cell_type": "code",
   "execution_count": 249,
   "id": "48fc3ef2",
   "metadata": {},
   "outputs": [
    {
     "data": {
      "text/plain": [
       "'Emraan Hashmi'"
      ]
     },
     "execution_count": 249,
     "metadata": {},
     "output_type": "execute_result"
    }
   ],
   "source": [
    "#index with labels->fancy indexing\n",
    "movies\n",
    "movies['Why Cheat India']"
   ]
  },
  {
   "cell_type": "markdown",
   "id": "89183d9a",
   "metadata": {},
   "source": [
    "# Editing Series"
   ]
  },
  {
   "cell_type": "code",
   "execution_count": 227,
   "id": "285d478c",
   "metadata": {},
   "outputs": [
    {
     "data": {
      "text/plain": [
       "maths       67\n",
       "english     57\n",
       "science     89\n",
       "hindi      100\n",
       "Name: Sahil ke Marks, dtype: int64"
      ]
     },
     "execution_count": 227,
     "metadata": {},
     "output_type": "execute_result"
    }
   ],
   "source": [
    "marks_series"
   ]
  },
  {
   "cell_type": "code",
   "execution_count": 229,
   "id": "1712194c",
   "metadata": {},
   "outputs": [
    {
     "data": {
      "text/plain": [
       "maths       67\n",
       "english    100\n",
       "science     89\n",
       "hindi      100\n",
       "Name: Sahil ke Marks, dtype: int64"
      ]
     },
     "execution_count": 229,
     "metadata": {},
     "output_type": "execute_result"
    }
   ],
   "source": [
    "#using indexing\n",
    "marks_series[1]=100\n",
    "marks_series"
   ]
  },
  {
   "cell_type": "code",
   "execution_count": 230,
   "id": "e876aff5",
   "metadata": {},
   "outputs": [],
   "source": [
    "marks_series['sst']=90"
   ]
  },
  {
   "cell_type": "code",
   "execution_count": 231,
   "id": "af041a10",
   "metadata": {},
   "outputs": [
    {
     "data": {
      "text/plain": [
       "maths       67\n",
       "english    100\n",
       "science     89\n",
       "hindi      100\n",
       "sst         90\n",
       "Name: Sahil ke Marks, dtype: int64"
      ]
     },
     "execution_count": 231,
     "metadata": {},
     "output_type": "execute_result"
    }
   ],
   "source": [
    "marks_series"
   ]
  },
  {
   "cell_type": "code",
   "execution_count": 232,
   "id": "e82c3297",
   "metadata": {},
   "outputs": [
    {
     "data": {
      "text/plain": [
       "0       48\n",
       "1       57\n",
       "2      100\n",
       "3      100\n",
       "4       44\n",
       "      ... \n",
       "360    231\n",
       "361    226\n",
       "362    155\n",
       "363    144\n",
       "364    172\n",
       "Name: Subscribers gained, Length: 365, dtype: int64"
      ]
     },
     "execution_count": 232,
     "metadata": {},
     "output_type": "execute_result"
    }
   ],
   "source": [
    "#slicing\n",
    "subs[2:4]=[100,100]\n",
    "subs"
   ]
  },
  {
   "cell_type": "code",
   "execution_count": 234,
   "id": "3b684efe",
   "metadata": {},
   "outputs": [
    {
     "data": {
      "text/plain": [
       "0        0\n",
       "1       57\n",
       "2        0\n",
       "3      100\n",
       "4        0\n",
       "      ... \n",
       "360    231\n",
       "361    226\n",
       "362    155\n",
       "363    144\n",
       "364    172\n",
       "Name: Subscribers gained, Length: 365, dtype: int64"
      ]
     },
     "execution_count": 234,
     "metadata": {},
     "output_type": "execute_result"
    }
   ],
   "source": [
    "subs[[0,2,4]]=[0,0,0]\n",
    "subs"
   ]
  },
  {
   "cell_type": "code",
   "execution_count": 254,
   "id": "e7a1300c",
   "metadata": {},
   "outputs": [
    {
     "data": {
      "text/plain": [
       "movie\n",
       "1920 (film)                   Rajniesh Duggall\n",
       "1920: London                     Sharman Joshi\n",
       "1920: The Evil Returns             Vicky Ahuja\n",
       "1971 (2007 film)                Manoj Bajpayee\n",
       "2 States (2014 film)                Alia Bhatt\n",
       "                                   ...        \n",
       "Zindagi 50-50                      Veena Malik\n",
       "Zindagi Na Milegi Dobara        Hrithik Roshan\n",
       "Zindagi Tere Naam           Mithun Chakraborty\n",
       "Zokkomon                       Darsheel Safary\n",
       "Zor Lagaa Ke...Haiya!            Meghan Jadhav\n",
       "Name: lead, Length: 1500, dtype: object"
      ]
     },
     "execution_count": 254,
     "metadata": {},
     "output_type": "execute_result"
    }
   ],
   "source": [
    "movies['2 States (2014 film)']='Alia Bhatt'\n",
    "movies"
   ]
  },
  {
   "cell_type": "markdown",
   "id": "0fe863f4",
   "metadata": {},
   "source": [
    "# Series with Python Functionlities"
   ]
  },
  {
   "cell_type": "code",
   "execution_count": 262,
   "id": "553b5e8f",
   "metadata": {},
   "outputs": [
    {
     "name": "stdout",
     "output_type": "stream",
     "text": [
      "365\n",
      "<class 'pandas.core.series.Series'>\n",
      "0\n",
      "396\n"
     ]
    }
   ],
   "source": [
    "#len /type/dir/sorted/max/min\n",
    "print(len(subs))\n",
    "print(type(subs))\n",
    "#print(dir(subs))#list of all method for series\n",
    "#print(sorted(subs))\n",
    "print(min(subs))\n",
    "print(max(subs))"
   ]
  },
  {
   "cell_type": "code",
   "execution_count": 263,
   "id": "9501676e",
   "metadata": {},
   "outputs": [
    {
     "data": {
      "text/plain": [
       "[67, 100, 89, 100, 90]"
      ]
     },
     "execution_count": 263,
     "metadata": {},
     "output_type": "execute_result"
    }
   ],
   "source": [
    "#type conversion\n",
    "list(marks_series)"
   ]
  },
  {
   "cell_type": "code",
   "execution_count": 264,
   "id": "f1fc354a",
   "metadata": {},
   "outputs": [
    {
     "data": {
      "text/plain": [
       "{'maths': 67, 'english': 100, 'science': 89, 'hindi': 100, 'sst': 90}"
      ]
     },
     "execution_count": 264,
     "metadata": {},
     "output_type": "execute_result"
    }
   ],
   "source": [
    "dict(marks_series)"
   ]
  },
  {
   "cell_type": "code",
   "execution_count": 266,
   "id": "7eb040a2",
   "metadata": {},
   "outputs": [
    {
     "data": {
      "text/plain": [
       "True"
      ]
     },
     "execution_count": 266,
     "metadata": {},
     "output_type": "execute_result"
    }
   ],
   "source": [
    "#membership operator,it works on values using .values\n",
    "'2 States (2014 film)'in movies"
   ]
  },
  {
   "cell_type": "code",
   "execution_count": 268,
   "id": "a3e5401f",
   "metadata": {},
   "outputs": [
    {
     "data": {
      "text/plain": [
       "True"
      ]
     },
     "execution_count": 268,
     "metadata": {},
     "output_type": "execute_result"
    }
   ],
   "source": [
    "'Alia Bhatt' in movies.values"
   ]
  },
  {
   "cell_type": "code",
   "execution_count": 270,
   "id": "ec7c9644",
   "metadata": {},
   "outputs": [
    {
     "name": "stdout",
     "output_type": "stream",
     "text": [
      "1920 (film)\n",
      "1920: London\n",
      "1920: The Evil Returns\n",
      "1971 (2007 film)\n",
      "2 States (2014 film)\n",
      "22 Yards\n",
      "3 A.M. (2014 film)\n",
      "3 Deewarein\n",
      "3 Idiots\n",
      "3 Storeys\n",
      "31st October (film)\n",
      "36 China Town\n",
      "3G (film)\n",
      "404 (film)\n",
      "5 Weddings\n",
      "68 Pages\n",
      "7 Hours to Go\n",
      "7 Khoon Maaf\n",
      "7½ Phere\n",
      "88 Antop Hill\n",
      "99 (2009 film)\n",
      "99.9 FM (film)\n",
      "?: A Question Mark\n",
      "A Decent Arrangement\n",
      "A Flat (film)\n",
      "A Flying Jatt\n",
      "A Gentleman\n",
      "ABCD 2\n",
      "Aa Dekhen Zara\n",
      "Aa Gaya Hero\n",
      "Aabra Ka Daabra\n",
      "Aag (2007 film)\n",
      "Aagey Se Right\n",
      "Aaj Ka Andha Kanoon\n",
      "Aaja Nachle\n",
      "Aakhari Decision\n",
      "Aakrosh (2010 film)\n",
      "Aalaap (film)\n",
      "Aan: Men at Work\n",
      "Aanch\n",
      "Aankhen (2002 film)\n",
      "Aap Kaa Surroor\n",
      "Aap Ki Khatir (2006 film)\n",
      "Aapko Pehle Bhi Kahin Dekha Hai\n",
      "Aarakshan\n",
      "Aashayein\n",
      "Aashiq Banaya Aapne\n",
      "Aashiqui 2\n",
      "Aashiqui.in\n",
      "Aasma: The Sky Is the Limit\n",
      "Aazaan\n",
      "Ab Tak Chhappan 2\n",
      "Ab Tumhare Hawale Watan Saathiyo\n",
      "Accident on Hill Road\n",
      "Acid Factory\n",
      "Action Jackson (2014 film)\n",
      "Action Replayy\n",
      "Adharm (2006 film)\n",
      "Ae Dil Hai Mushkil\n",
      "Aetbaar\n",
      "Agent Vinod (2012 film)\n",
      "Aggar (film)\n",
      "Agneepath (2012 film)\n",
      "Agnipankh\n",
      "Ahista Ahista (2006 film)\n",
      "Airlift (film)\n",
      "Aisa Kyon Hota Hai?\n",
      "Aisa Yeh Jahaan\n",
      "Aitraaz\n",
      "Aiyaary\n",
      "Aiyyaa\n",
      "Ajab Gazabb Love\n",
      "Ajab Prem Ki Ghazab Kahani\n",
      "Ajji\n",
      "Akaash Vani\n",
      "Aksar\n",
      "Aksar 2\n",
      "Aladin (film)\n",
      "Alag\n",
      "Albert Pinto Ko Gussa Kyun Aata Hai?\n",
      "Aligarh (film)\n",
      "All Is Well (2015 film)\n",
      "All the Best: Fun Begins\n",
      "Allah Ke Banday\n",
      "Alone (2015 Hindi film)\n",
      "Aloo Chaat (film)\n",
      "Always Kabhi Kabhi\n",
      "Amavas\n",
      "Amit Sahni Ki List\n",
      "Anaarkali of Aarah\n",
      "Anamika (2008 film)\n",
      "Andaaz\n",
      "Andaaz\n",
      "Andhadhun\n",
      "Angel (2011 film)\n",
      "Anjaana Anjaani\n",
      "Anjaane (2005 film)\n",
      "Ankahee (2006 film)\n",
      "Ankhon Dekhi\n",
      "Ankur Arora Murder Case\n",
      "Anna (2016 film)\n",
      "Antardwand\n",
      "Anthony Kaun Hai?\n",
      "Anuradha (2014 film)\n",
      "Anwar (2007 film)\n",
      "Apaharan\n",
      "Apartment (film)\n",
      "Apna Asmaan\n",
      "Apna Sapna Money Money\n",
      "Apne\n",
      "Arjun Patiala\n",
      "Arjun: The Warrior Prince\n",
      "Armaan (2003 film)\n",
      "Article 15 (film)\n",
      "Aryan: Unbreakable\n",
      "Asambhav\n",
      "Ata Pata Laapata\n",
      "Aur Pappu Paas Ho Gaya\n",
      "Aurangzeb (film)\n",
      "Aval (2017 film)\n",
      "Awara Paagal Deewana\n",
      "Awarapan\n",
      "Azhar (film)\n",
      "B.A. Pass\n",
      "Baabarr\n",
      "Baabul (2006 film)\n",
      "Baaghi (2016 film)\n",
      "Baaghi 2\n",
      "Baar Baar Dekho\n",
      "Baat Bann Gayi\n",
      "Baaz: A Bird in Danger\n",
      "Baazaar\n",
      "Babloo Happy Hai\n",
      "Babuji Ek Ticket Bambai\n",
      "Babumoshai Bandookbaaz\n",
      "Baby (2015 Hindi film)\n",
      "Bachche Kachche Sachche\n",
      "Bachke Rehna Re Baba\n",
      "Bachna Ae Haseeno\n",
      "Badhaai Ho\n",
      "Badla (2019 film)\n",
      "Badlapur (film)\n",
      "Badlapur Boys\n",
      "Badmashiyaan\n",
      "Badrinath Ki Dulhania\n",
      "Baghban (2003 film)\n",
      "Bajatey Raho\n",
      "Bajirao Mastani\n",
      "Bajrangi Bhaijaan\n",
      "Bala (2019 film)\n",
      "Balwinder Singh Famous Ho Gaya\n",
      "Banaras (2006 film)\n",
      "Band Baaja Baaraat\n",
      "Bandook\n",
      "Bang Bang!\n",
      "Bangistan\n",
      "Banjo (2016 film)\n",
      "Bank Chor\n",
      "Barah Aana\n",
      "Bardaasht\n",
      "Bareilly Ki Barfi\n",
      "Barfi!\n",
      "Barkhaa\n",
      "Barsaat (2005 film)\n",
      "Bas Ek Pal\n",
      "Basti (film)\n",
      "Batla House\n",
      "Battalion 609\n",
      "Batti Gul Meter Chalu\n",
      "Bazaar E Husn\n",
      "Bbuddah... Hoga Terra Baap\n",
      "Befikre\n",
      "Begum Jaan\n",
      "Behen Hogi Teri\n",
      "Beiimaan Love\n",
      "Being Cyrus\n",
      "Bewafaa (2005 film)\n",
      "Bewakoofiyaan\n",
      "Beyond the Clouds (2017 film)\n",
      "Bezubaan Ishq\n",
      "Bhaag Johnny\n",
      "Bhaag Milkha Bhaag\n",
      "Bhagam Bhag\n",
      "Bhagmati (2005 film)\n",
      "Bhaiaji Superhit\n",
      "Bhanwarey\n",
      "Bhavesh Joshi Superhero\n",
      "Bheja Fry (film)\n",
      "Bheja Fry 2\n",
      "Bhola in Bollywood\n",
      "Bhool Bhulaiyaa\n",
      "Bhoomi (film)\n",
      "Bhoot (film)\n",
      "Bhoot Returns\n",
      "Bhoot Unkle\n",
      "Bhoothnath\n",
      "Bhoothnath Returns\n",
      "Bhopal: A Prayer for Rain\n",
      "Bhram\n",
      "Big Brother (2007 film)\n",
      "Billu\n",
      "Bin Bulaye Baraati\n",
      "Bioscopewala\n",
      "Bittoo Boss\n",
      "Black (2005 film)\n",
      "Black Friday (2007 film)\n",
      "Blackmail (2005 film)\n",
      "Blood Brothers (2007 Indian film)\n",
      "Blood Money (2012 film)\n",
      "Bloody Isshq\n",
      "Blue (2009 film)\n",
      "Bluffmaster!\n",
      "Bobby Jasoos\n",
      "Bodyguard (2011 Hindi film)\n",
      "Bol Bachchan\n",
      "Bollywood Diaries\n",
      "Bombairiya\n",
      "Bombay Talkies (film)\n",
      "Bombay Velvet\n",
      "Bombay to Bangkok\n",
      "Bombay to Goa (2007 film)\n",
      "Boom (film)\n",
      "Border (1997 film)\n",
      "Boss (2013 Hindi film)\n",
      "Brahman Naman\n",
      "Break Ke Baad\n",
      "Breakaway (2011 film)\n",
      "Brij Mohan Amar Rahe\n",
      "Brothers (2015 film)\n",
      "Bubble Gum (film)\n",
      "Buddha Mar Gaya\n",
      "Buddha in a Traffic Jam\n",
      "Bullet: Ek Dhamaka\n",
      "Bullett Raja\n",
      "Bumboo\n",
      "Bumm Bumm Bole\n",
      "Bumper Draw\n",
      "Bunty Aur Babli\n",
      "Bypass Road (film)\n",
      "C Kkompany\n",
      "Calapor (film)\n",
      "Calcutta Mail\n",
      "Calendar Girls (2015 film)\n",
      "Cash (2007 film)\n",
      "Chaahat – Ek Nasha\n",
      "Chaalis Chauraasi\n",
      "Chaar Din Ki Chandni\n",
      "Chaarfutiya Chhokare\n",
      "Chak De! India\n",
      "Chakravyuh (2012 film)\n",
      "Chal Chala Chal\n",
      "Chal Pichchur Banate Hain\n",
      "Chalk n Duster\n",
      "Challo Driver\n",
      "Chalo Dilli\n",
      "Chalte Chalte (2003 film)\n",
      "Chameli (film)\n",
      "Chamku\n",
      "Chance Pe Dance\n",
      "Chand Ke Paar Chalo (film)\n",
      "Chand Sa Roshan Chehra\n",
      "Chandni Chowk to China\n",
      "Charas (2004 film)\n",
      "Chargesheet (film)\n",
      "Chase (2010 film)\n",
      "Chashme Baddoor (2013 film)\n",
      "Chatur Singh Two Star\n",
      "Cheeni Kum\n",
      "Chef (2017 film)\n",
      "Chehraa\n",
      "Chennai Express\n",
      "Chetna: The Excitement\n",
      "Chhodon Naa Yaar\n",
      "Chhota Bheem and the Throne of Bali\n",
      "Chicken Curry Law\n",
      "Children of Heaven\n",
      "Children of War (2014 film)\n",
      "Chillar Party\n",
      "Chinar Daastaan-E-Ishq\n",
      "Chingaari\n",
      "Chintu Ji\n",
      "Chittagong (film)\n",
      "Chocolate (2005 film)\n",
      "Chor Chor Super Chor\n",
      "Chori Chori (2003 film)\n",
      "Chup Chup Ke\n",
      "Chura Liyaa Hai Tumne\n",
      "Cigarette Ki Tarah\n",
      "City of Gold (2010 film)\n",
      "CityLights (2014 film)\n",
      "Classic – Dance of Love\n",
      "Click (2010 film)\n",
      "Cocktail (2012 film)\n",
      "Coffee Bloom\n",
      "Coffee with D\n",
      "Commando 3 (film)\n",
      "Commando: A One Man Army\n",
      "Company (film)\n",
      "Contract (2008 film)\n",
      "Corporate (2006 film)\n",
      "Court (film)\n",
      "Crazy Cukkad Family\n",
      "Creature 3D\n",
      "Crook (film)\n",
      "D (film)\n",
      "D-Day (2013 film)\n",
      "Daas Dev\n",
      "Daawat-e-Ishq\n",
      "Dabangg\n",
      "Dabangg 2\n",
      "Dabangg 3\n",
      "Daddy (2017 film)\n",
      "Daddy Cool (2009 Hindi film)\n",
      "Damadamm!\n",
      "Dangal (film)\n",
      "Dangerous Ishhq\n",
      "Darling (2007 Indian film)\n",
      "Darna Mana Hai\n",
      "Darna Zaroori Hai\n",
      "Darr @ the Mall\n",
      "Darwaaza Bandh Rakho\n",
      "Dassehra\n",
      "Dasvidaniya\n",
      "Days of Tafree\n",
      "De Dana Dan\n",
      "De De Pyaar De\n",
      "De Taali\n",
      "Deadline: Sirf 24 Ghante\n",
      "Dear Dad (film)\n",
      "Dear Friend Hitler\n",
      "Dear Maya\n",
      "Dear Zindagi\n",
      "Dedh Ishqiya\n",
      "Deewaar (2004 film)\n",
      "Deewane Huye Paagal\n",
      "Dehraadun Diary\n",
      "Dekh Tamasha Dekh\n",
      "Delhi Belly (film)\n",
      "Delhi Safari\n",
      "Delhi-6\n",
      "Department (film)\n",
      "Deshdrohi\n",
      "Desi Boyz\n",
      "Desi Kattey\n",
      "Detective Byomkesh Bakshy!\n",
      "Dev (2004 film)\n",
      "Devaki (2005 film)\n",
      "Devdas (2002 Hindi film)\n",
      "Devi (2016 film)\n",
      "Dhadak\n",
      "Dhamaal\n",
      "Dhanak\n",
      "Dharam Sankat Mein\n",
      "Dharm (film)\n",
      "Dharti Kahe Pukar Ke (2006 film)\n",
      "Dhobi Ghat (film)\n",
      "Dhokha\n",
      "Dhol (film)\n",
      "Dhoom\n",
      "Dhoom 2\n",
      "Dhoom 3\n",
      "Dhoondte Reh Jaaoge\n",
      "Dhoop\n",
      "Dhund (2003 film)\n",
      "Dil Bechara\n",
      "Dil Bechara Pyaar Ka Maara\n",
      "Dil Bole Hadippa!\n",
      "Dil Dhadakne Do\n",
      "Dil Diya Hai\n",
      "Dil Dosti Etc\n",
      "Dil Jo Bhi Kahey...\n",
      "Dil Jo Na Keh Saka\n",
      "Dil Juunglee\n",
      "Dil Ka Rishta\n",
      "Dil Kabaddi\n",
      "Dil Maange More\n",
      "Dil Ne Jise Apna Kahaa\n",
      "Dil Pardesi Ho Gayaa\n",
      "Dil Toh Baccha Hai Ji\n",
      "Dil Toh Deewana Hai\n",
      "Dilliwali Zaalim Girlfriend\n",
      "Dilwale (2015 film)\n",
      "Direct Ishq\n",
      "Dirty Politics (film)\n",
      "Dishkiyaoon\n",
      "Dishoom\n",
      "Do Dooni Chaar\n",
      "Do Lafzon Ki Kahani (film)\n",
      "Dobaara: See Your Evil\n",
      "Dobara\n",
      "Dolly Ki Doli\n",
      "Don (2006 Hindi film)\n",
      "Don 2\n",
      "Don Muthu Swami\n",
      "Don't Stop Dreaming\n",
      "Dongari Ka Raja\n",
      "Dor (film)\n",
      "Dostana (2008 film)\n",
      "Dosti: Friends Forever\n",
      "Double Cross (2005 film)\n",
      "Double Dhamaal\n",
      "Dream Girl (2019 film)\n",
      "Dreams (2006 film)\n",
      "Drishyam (2015 film)\n",
      "Drona (2008 film)\n",
      "Dude Where's the Party?\n",
      "Dulha Mil Gaya\n",
      "Dum (2003 Hindi film)\n",
      "Dum Laga Ke Haisha\n",
      "Dum Maaro Dum (film)\n",
      "Dunno Y... Na Jaane Kyon\n",
      "Dus\n",
      "Dus Kahaniyaan\n",
      "Eight: The Power of Shani\n",
      "Ek Ajnabee\n",
      "Ek Alag Mausam\n",
      "Ek Aur Ek Gyarah\n",
      "Ek Chalis Ki Last Local\n",
      "Ek Din 24 Ghante\n",
      "Ek Haseena Thi Ek Deewana Tha\n",
      "Ek Hasina Thi (film)\n",
      "Ek Kahani Julie Ki\n",
      "Ek Khiladi Ek Haseena (film)\n",
      "Ek Main Aur Ekk Tu\n",
      "Ek Paheli Leela\n",
      "Ek Se Badhkar Ek (2004 film)\n",
      "Ek Se Bure Do\n",
      "Ek Second... Jo Zindagi Badal De?\n",
      "Ek Tha Tiger\n",
      "Ek Thi Daayan\n",
      "Ek Thi Rani Aisi Bhi\n",
      "Ek Villain\n",
      "Ek Vivaah... Aisa Bhi\n",
      "Ek: The Power of One\n",
      "Ekk Deewana Tha\n",
      "Ekkees Toppon Ki Salaami\n",
      "Eklavya: The Royal Guard\n",
      "Elaan (2005 film)\n",
      "Enemmy\n",
      "English Vinglish\n",
      "Entertainment (2014 film)\n",
      "Escape from Taliban\n",
      "Evening Shadows\n",
      "F.A.L.T.U\n",
      "Family (2006 film)\n",
      "Family of Thakurganj\n",
      "Familywala\n",
      "Fan (film)\n",
      "Fanaa (2006 film)\n",
      "Fareb (2005 film)\n",
      "Fashion (2008 film)\n",
      "Fatso!\n",
      "Ferrari Ki Sawaari\n",
      "Fever (2016 film)\n",
      "Fida\n",
      "Fight Club – Members Only\n",
      "Filmistaan\n",
      "Finding Fanny\n",
      "Firaaq\n",
      "Firangi\n",
      "Fitoor\n",
      "Flat 211\n",
      "Flavors (film)\n",
      "Fool & Final\n",
      "Footpath (2003 film)\n",
      "Force (2011 film)\n",
      "Force 2\n",
      "Fox (film)\n",
      "Fraud Saiyaan\n",
      "Freaky Ali\n",
      "Fredrick (film)\n",
      "From Sydney with Love\n",
      "Fruit and Nut (film)\n",
      "FryDay\n",
      "Fuddu\n",
      "Fugly (film)\n",
      "Fukrey\n",
      "Fukrey Returns\n",
      "Fun – Can Be Dangerous Sometimes\n",
      "Fun2shh... Dudes in the 10th Century\n",
      "G Kutta Se\n",
      "Gabbar Is Back\n",
      "Gabbar Is Back\n",
      "Gali Guleiyan\n",
      "Game (2011 film)\n",
      "Gandhi My Father\n",
      "Gang of Ghosts\n",
      "Gangaajal\n",
      "Gangoobai\n",
      "Gangs of Wasseypur\n",
      "Gangs of Wasseypur – Part 2\n",
      "Gangster (2006 film)\n",
      "Garam Masala (2005 film)\n",
      "Garv: Pride & Honour\n",
      "Gattu\n",
      "Gauri: The Unborn\n",
      "Gayab\n",
      "Genius (2018 Hindi film)\n",
      "Ghajini (2008 film)\n",
      "Ghanchakkar (film)\n",
      "Ghayal: Once Again\n",
      "Ghost (2012 film)\n",
      "Ghost (2019 film)\n",
      "Gippi\n",
      "Girlfriend (2004 film)\n",
      "Global Baba\n",
      "Go (2007 film)\n",
      "Go Goa Gone\n",
      "Goal (2007 Hindi film)\n",
      "God Tussi Great Ho\n",
      "Gold (2018 film)\n",
      "Goliyon Ki Raasleela Ram-Leela\n",
      "Gollu Aur Pappu\n",
      "Golmaal Again\n",
      "Golmaal Returns\n",
      "Golmaal: Fun Unlimited\n",
      "Gone Kesh\n",
      "Good Boy Bad Boy\n",
      "Good Newwz\n",
      "Gori Tere Pyaar Mein\n",
      "Gour Hari Dastaan\n",
      "Grand Masti\n",
      "Great Grand Masti\n",
      "Green Card Fever\n",
      "Guddu Ki Gun\n",
      "Guddu Rangeela\n",
      "Guest iin London\n",
      "Gulaab Gang\n",
      "Gulaal (film)\n",
      "Gulabi Gang (film)\n",
      "Gully Boy\n",
      "Gumnaam – The Mystery\n",
      "Gunday\n",
      "Guru (2007 film)\n",
      "Guzaarish (film)\n",
      "Haal-e-Dil\n",
      "Haasil\n",
      "Hai Apna Dil Toh Awara\n",
      "Haider (film)\n",
      "Half Girlfriend (film)\n",
      "Halkaa\n",
      "Halla Bol\n",
      "Hamari Adhuri Kahani\n",
      "Hamid (film)\n",
      "Hanuman (2005 film)\n",
      "Happy Bhag Jayegi\n",
      "Happy Ending (film)\n",
      "Happy Husbands (2011 film)\n",
      "Happy New Year (2014 film)\n",
      "Happy Phirr Bhag Jayegi\n",
      "Haraamkhor\n",
      "Hari Puttar: A Comedy of Terrors\n",
      "Hasee Toh Phasee\n",
      "Haseena Parkar\n",
      "Hastey Hastey\n",
      "Hate Story\n",
      "Hate Story 2\n",
      "Hate Story 4\n",
      "Hattrick (film)\n",
      "Hatya (2004 film)\n",
      "Haunted – 3D\n",
      "Hava Aney Dey\n",
      "Hawa (film)\n",
      "Hawaa Hawaai\n",
      "Hawaizaada\n",
      "Hawas (2004 film)\n",
      "Hawayein\n",
      "Hazaaron Khwaishein Aisi\n",
      "Heartless (2014 film)\n",
      "Helicopter Eela\n",
      "Hello (2008 film)\n",
      "Hello Darling\n",
      "Help (film)\n",
      "Hero (2015 Hindi film)\n",
      "Heroes (2008 film)\n",
      "Heroine (2012 film)\n",
      "Heropanti\n",
      "Hey Bro\n",
      "Heyy Babyy\n",
      "Hichki\n",
      "High Jack (film)\n",
      "Highway (2014 Hindi film)\n",
      "Himmatwala (2013 film)\n",
      "Hind Ka Napak Ko Jawab: MSG Lion Heart 2\n",
      "Hindi Medium\n",
      "Hisss\n",
      "Holiday (2006 film)\n",
      "Holiday: A Soldier Is Never Off Duty\n",
      "Home Delivery\n",
      "Honeymoon Travels Pvt. Ltd.\n",
      "Honour Killing (film)\n",
      "Hope Aur Hum\n",
      "Horror Story (film)\n",
      "Hostel (2011 film)\n",
      "Hotel Salvation\n",
      "Housefull (2010 film)\n",
      "Housefull 2\n",
      "Housefull 4\n",
      "Hulchul (2004 film)\n",
      "Hum Chaar\n",
      "Hum Hai Raahi Car Ke\n",
      "Hum Tum\n",
      "Hum Tum Aur Ghost\n",
      "Hum Tum Shabana\n",
      "Hum Tumhare Hain Sanam\n",
      "Hume Tumse Pyaar Kitna\n",
      "Humko Deewana Kar Gaye\n",
      "Humko Tumse Pyaar Hai\n",
      "Humne Jeena Seekh Liya\n",
      "Humpty Sharma Ki Dulhania\n",
      "Humshakals\n",
      "Hungama (2003 film)\n",
      "Hunterrr\n",
      "Hyderabad Blues 2\n",
      "I Am (2010 Indian film)\n",
      "I Am Kalam\n",
      "I Hate Luv Storys\n",
      "I Love Desi\n",
      "I Love NY (2015 film)\n",
      "I Proud to Be an Indian\n",
      "I See You (2006 film)\n",
      "Impatient Vivek\n",
      "India's Most Wanted (film)\n",
      "Indian Babu\n",
      "Indu Sarkar\n",
      "Inkaar (2013 film)\n",
      "Insaaf: The Justice\n",
      "Insan\n",
      "Inteha (2003 film)\n",
      "Inteqam: The Perfect Game\n",
      "Iqbal (film)\n",
      "Iqraar by Chance\n",
      "Irada (2017 film)\n",
      "Irudhi Suttru\n",
      "Ishaqzaade\n",
      "Ishkq in Paris\n",
      "Ishq Click\n",
      "Ishq Forever\n",
      "Ishq Hai Tumse\n",
      "Ishq Ke Parindey\n",
      "Ishq Vishk\n",
      "Ishqedarriyaan\n",
      "Ishqeria\n",
      "Ishqiya\n",
      "Isi Life Mein\n",
      "Island City (2015 film)\n",
      "Issaq\n",
      "It's a Wonderful Afterlife\n",
      "JD (film)\n",
      "Jaal: The Trap\n",
      "Jaan-E-Mann\n",
      "Jaane Hoga Kya\n",
      "Jaane Kahan Se Aayi Hai\n",
      "Jaane Kyun De Yaaron\n",
      "Jab Harry Met Sejal\n",
      "Jab Tak Hai Jaan\n",
      "Jab We Met\n",
      "Jabariya Jodi\n",
      "Jack and Dil\n",
      "Jackpot (2013 film)\n",
      "Jagga Jasoos\n",
      "Jahan Jaaeyega Hamen Paaeyega\n",
      "Jai Chiranjeeva\n",
      "Jai Gangaajal\n",
      "Jai Ho (film)\n",
      "Jai Jawaan Jai Kisaan (film)\n",
      "Jai Veeru\n",
      "Jail (2009 film)\n",
      "Jajantaram Mamantaram\n",
      "Jal (film)\n",
      "Jalebi (film)\n",
      "Jalpari: The Desert Mermaid\n",
      "James (2005 film)\n",
      "Janasheen\n",
      "Jannat (film)\n",
      "Jattu Engineer\n",
      "Jawani Diwani: A Youthful Joyride\n",
      "Jayantabhai Ki Luv Story\n",
      "Jazbaa\n",
      "Jeena Hai Toh Thok Daal\n",
      "Jeena Isi Ka Naam Hai (film)\n",
      "Jhalki\n",
      "Jhankaar Beats\n",
      "Jhoom Barabar Jhoom\n",
      "Jhootha Hi Sahi\n",
      "Jhootha Kahin Ka\n",
      "Jia Aur Jia\n",
      "Jigariyaa\n",
      "Jigyaasa\n",
      "Jimmy (2008 film)\n",
      "Jism (2003 film)\n",
      "Jo Bole So Nihaal (film)\n",
      "Jo Hum Chahein\n",
      "Jodhaa Akbar\n",
      "Jodi Breakers\n",
      "Joggers' Park (film)\n",
      "John Day (film)\n",
      "Johnny Gaddaar\n",
      "Joker (2012 film)\n",
      "Jolly LLB\n",
      "Judgementall Hai Kya\n",
      "Judwaa 2\n",
      "Jugni (2016 film)\n",
      "Julie (2004 film)\n",
      "Julie 2\n",
      "Junglee (2019 film)\n",
      "Junooniyat\n",
      "Jurm (2005 film)\n",
      "Just Married (2007 film)\n",
      "Kaabil\n",
      "Kaagaz Ke Fools\n",
      "Kaal (2005 film)\n",
      "Kaalakaandi\n",
      "Kaalo\n",
      "Kaanchi: The Unbreakable\n",
      "Kaante\n",
      "Kaashi in Search of Ganga\n",
      "Kabhi Alvida Naa Kehna\n",
      "Kabir Singh\n",
      "Kabul Express\n",
      "Kadvi Hawa\n",
      "Kagaar: Life on the Edge\n",
      "Kahaani\n",
      "Kahin Hai Mera Pyar\n",
      "Kai Po Che!\n",
      "Kaise Kahoon Ke... Pyaar Hai\n",
      "Kal Ho Naa Ho\n",
      "Kalank\n",
      "Kalyug (2005 film)\n",
      "Kaminey\n",
      "Kapoor & Sons\n",
      "Karam (film)\n",
      "Karar: The Deal\n",
      "Karle Pyaar Karle\n",
      "Karma Aur Holi\n",
      "Karthik Calling Karthik\n",
      "Karwaan\n",
      "Karzzzz\n",
      "Kasak (2005 film)\n",
      "Kash Aap Hamare Hote\n",
      "Katti Batti\n",
      "Kaun Hai Jo Sapno Mein Aaya\n",
      "Kaun Kitne Paani Mein\n",
      "Keep Safe Distance (film)\n",
      "Kesari (film)\n",
      "Khajoor Pe Atke\n",
      "Khakee\n",
      "Khamosh Pani\n",
      "Khamoshh... Khauff Ki Raat\n",
      "Khamoshi (2019 film)\n",
      "Khamoshiyan\n",
      "Khap (film)\n",
      "Khatta Meetha (2010 film)\n",
      "Khel Toh Ab Shuru Hoga\n",
      "Khel – No Ordinary Game\n",
      "Khichdi: The Movie\n",
      "Khoobsurat (2014 film)\n",
      "Khosla Ka Ghosla\n",
      "Khoya Khoya Chand\n",
      "Khuda Kasam\n",
      "Khushi (2003 Hindi film)\n",
      "Khwaabb\n",
      "Khwahish\n",
      "Ki & Ka\n",
      "Kick (2014 film)\n",
      "Kill Dil\n",
      "Kis Kis Ki Kismat\n",
      "Kis Kisko Pyaar Karoon\n",
      "Kisaan\n",
      "Kismat (2004 film)\n",
      "Kismat Konnection\n",
      "Kismat Love Paisa Dilli\n",
      "Kisna: The Warrior Poet\n",
      "Kisse Pyaar Karoon\n",
      "Kites (film)\n",
      "Knock Out (2010 film)\n",
      "Koi Aap Sa\n",
      "Koi Mere Dil Mein Hai\n",
      "Koi... Mil Gaya\n",
      "Koyelaanchal\n",
      "Krazzy 4\n",
      "Krishna Aur Kans\n",
      "Krishna Cottage\n",
      "Krrish\n",
      "Kucch Luv Jaisaa\n",
      "Kucch To Hai\n",
      "Kuch Kuch Locha Hai\n",
      "Kuch Naa Kaho\n",
      "Kuchh Bheege Alfaaz\n",
      "Kuchh Meetha Ho Jaye\n",
      "Kudiyon Ka Hai Zamana\n",
      "Kuku Mathur Ki Jhand Ho Gayi\n",
      "Kurbaan (2009 film)\n",
      "Kushti (film)\n",
      "Kya Dilli Kya Lahore\n",
      "Kya Love Story Hai\n",
      "Kyaa Kool Hai Hum\n",
      "Kyaa Kool Hain Hum 3\n",
      "Kyaa Super Kool Hain Hum\n",
      "Kyon Ki\n",
      "Kyun! Ho Gaya Na...\n",
      "LOC Kargil\n",
      "Laaga Chunari Mein Daag\n",
      "Laal Rang\n",
      "Ladies vs Ricky Bahl\n",
      "Lafangey Parindey\n",
      "Lage Raho Munna Bhai\n",
      "Lahore (film)\n",
      "Laila Majnu (2018 film)\n",
      "Lakeer – Forbidden Lines\n",
      "Lakshmi (2014 film)\n",
      "Lakshya (film)\n",
      "Lamhaa\n",
      "Lekar Hum Deewana Dil\n",
      "Life Express (2010 film)\n",
      "Life Is Beautiful (2014 film)\n",
      "Life Ki Toh Lag Gayi\n",
      "Life Mein Kabhie Kabhiee\n",
      "Life Partner\n",
      "Life in a... Metro\n",
      "Lipstick Under My Burkha\n",
      "Listen... Amaya\n",
      "Little Zizou\n",
      "Login (film)\n",
      "Loins of Punjab Presents\n",
      "London Dreams\n",
      "Lootera\n",
      "Love Aaj Kal\n",
      "Love Breakups Zindagi\n",
      "Love Games (film)\n",
      "Love Ke Chakkar Mein\n",
      "Love Sex Aur Dhokha\n",
      "Love Shagun\n",
      "Love Sonia\n",
      "Love Story 2050\n",
      "Love U...Mr. Kalakaar!\n",
      "Love in Bombay\n",
      "Love per Square Foot\n",
      "Loveshhuda\n",
      "Luck (2009 film)\n",
      "Luck by Chance\n",
      "Luckhnowi Ishq\n",
      "Lucknow Central\n",
      "Lucky Kabootar\n",
      "Lucky: No Time for Love\n",
      "Luv U Alia\n",
      "Luv U Soniyo\n",
      "M Cream\n",
      "M.S. Dhoni: The Untold Story\n",
      "MP3: Mera Pehla Pehla Pyaar\n",
      "MSG-2 The Messenger\n",
      "MSG: The Messenger\n",
      "MSG: The Warrior Lion Heart\n",
      "Maan Gaye Mughal-e-Azam\n",
      "Maatr\n",
      "Maazii\n",
      "Machhli Jal Ki Rani Hai\n",
      "Machine (2017 film)\n",
      "Mad About Dance\n",
      "Madaari\n",
      "Made in China (2019 film)\n",
      "Madhoshi\n",
      "Madras Cafe\n",
      "Magic Magic 3D\n",
      "Mai (2013 film)\n",
      "Main Aisa Hi Hoon\n",
      "Main Aur Mr. Riight\n",
      "Main Aurr Mrs Khanna\n",
      "Main Hoon Na\n",
      "Main Hoon Part-Time Killer\n",
      "Main Krishna Hoon\n",
      "Main Madhuri Dixit Banna Chahti Hoon\n",
      "Main Meri Patni Aur Woh\n",
      "Main Prem Ki Diwani Hoon\n",
      "Main Tera Hero\n",
      "Maine Gandhi Ko Nahin Mara\n",
      "Maine Pyaar Kyun Kiya?\n",
      "Malamaal Weekly\n",
      "Malik Ek\n",
      "Mangal Pandey: The Rising\n",
      "Manikarnika: The Queen of Jhansi\n",
      "Manjhi – The Mountain Man\n",
      "Manjunath (film)\n",
      "Manmarziyaan\n",
      "Manorama Six Feet Under\n",
      "Manto (2018 film)\n",
      "Mantra (2016 film)\n",
      "Maqbool\n",
      "Mard Ko Dard Nahi Hota\n",
      "Mardaani\n",
      "Mardaani 2\n",
      "Margarita with a Straw\n",
      "Marigold (2007 film)\n",
      "Marjaavaan\n",
      "Market (2003 film)\n",
      "Married 2 America\n",
      "Mary Kom (film)\n",
      "Masaan\n",
      "Masti (2004 film)\n",
      "Mastizaade\n",
      "Mastram\n",
      "Matru Ki Bijlee Ka Mandola\n",
      "Matrubhoomi\n",
      "Mausam (2011 film)\n",
      "Maximum (film)\n",
      "Meenaxi: A Tale of Three Cities\n",
      "Meerabai Not Out\n",
      "Meeruthiya Gangsters\n",
      "Meinu Ek Ladki Chaahiye\n",
      "Memories in March\n",
      "Mercury (film)\n",
      "Mere Baap Pehle Aap\n",
      "Mere Brother Ki Dulhan\n",
      "Mere Dad Ki Maruti\n",
      "Mere Dost Picture Abhi Baki Hai\n",
      "Mere Genie Uncle\n",
      "Mere Jeevan Saathi (2006 film)\n",
      "Mere Pyare Prime Minister\n",
      "Meri Biwi Ka Jawaab Nahin\n",
      "Meri Pyaari Bindu\n",
      "Mickey Virus\n",
      "Milenge Milenge\n",
      "Miley Naa Miley Hum\n",
      "Mirch\n",
      "Mirzya (film)\n",
      "Miss Tanakpur Haazir Ho\n",
      "Missing (2018 film)\n",
      "Mission Istaanbul\n",
      "Mission Mangal\n",
      "Mitron\n",
      "Mittal v/s Mittal\n",
      "Moh Maya Money\n",
      "Mohalla Assi\n",
      "Mohenjo Daro (film)\n",
      "Mom (film)\n",
      "Money Hai Toh Honey Hai\n",
      "Monica (film)\n",
      "Monsoon Shootout\n",
      "Morning Raga\n",
      "Motichoor Chaknachoor\n",
      "Motu Patlu: King of Kings\n",
      "Mr Prime Minister\n",
      "Mr. Bhatti on Chutti\n",
      "Mr. Singh Mrs. Mehta\n",
      "Mr. X (2015 film)\n",
      "Mubarakan\n",
      "Mughal-e-Azam\n",
      "Mujhse Fraaandship Karoge\n",
      "Mujhse Shaadi Karogi\n",
      "Mukhbiir\n",
      "Mukkabaaz\n",
      "Mulk (film)\n",
      "Mumbai 125 KM\n",
      "Mumbai Can Dance Saala\n",
      "Mumbai Delhi Mumbai\n",
      "Mumbai Mast Kallander\n",
      "Mumbai Matinee\n",
      "Mumbai Meri Jaan\n",
      "Mumbai Salsa\n",
      "Mumbai Se Aaya Mera Dost\n",
      "Mumbhai Connection\n",
      "Mummy Punjabi\n",
      "Munna Bhai M.B.B.S.\n",
      "Munna Michael\n",
      "Murari the Mad Gentleman\n",
      "Murder (2004 film)\n",
      "Murder 2\n",
      "Murder 3\n",
      "Musafir (2004 film)\n",
      "Muskaan\n",
      "My Birthday Song\n",
      "My Bollywood Bride\n",
      "My Brother…Nikhil\n",
      "My Friend Pinto\n",
      "My Name Is Khan\n",
      "My Wife's Murder\n",
      "NH-8 Road to Nidhivan\n",
      "NH10 (film)\n",
      "Na Ghar Ke Na Ghaat Ke\n",
      "Naach (2004 film)\n",
      "Naam Shabana\n",
      "Naina (2005 film)\n",
      "Naksha\n",
      "Namaste England\n",
      "Namastey London\n",
      "Nanhe Jaisalmer\n",
      "Nanu Ki Jaanu\n",
      "Naqaab\n",
      "Nasha (film)\n",
      "Naughty @ 40\n",
      "Nautanki Saala!\n",
      "Nawabzaade\n",
      "Nayee Padosan\n",
      "Neal 'n' Nikki\n",
      "Neerja\n",
      "Nehlle Pe Dehlla\n",
      "Netaji Subhas Chandra Bose: The Forgotten Hero\n",
      "New York (2009 film)\n",
      "Newton (film)\n",
      "Nil Battey Sannata\n",
      "Nirdosh\n",
      "Nishabd\n",
      "No Entry\n",
      "No One Killed Jessica\n",
      "No Problem (2010 film)\n",
      "No Smoking (2007 film)\n",
      "Noor (film)\n",
      "Not a Love Story (2011 film)\n",
      "Notebook (2019 film)\n",
      "Nothing but Life\n",
      "O Teri\n",
      "OMG – Oh My God!\n",
      "October (2018 film)\n",
      "Oh My God (2008 film)\n",
      "Ok Jaanu\n",
      "Om (2003 film)\n",
      "Om Shanti Om\n",
      "Om-Dar-B-Dar\n",
      "Omerta (film)\n",
      "Omkara (2006 film)\n",
      "Once Upon a Time in Mumbaai\n",
      "Once Upon ay Time in Mumbai Dobaara!\n",
      "One Day: Justice Delivered\n",
      "One Two Three\n",
      "One by Two (2014 film)\n",
      "Out of Control (2003 film)\n",
      "Oye Lucky! Lucky Oye!\n",
      "P Se PM Tak\n",
      "P Se Pyaar F Se Faraar\n",
      "PK (film)\n",
      "PM Narendra Modi\n",
      "Paa (film)\n",
      "Paan Singh Tomar (film)\n",
      "Paanch Ghantey Mien Paanch Crore\n",
      "Paap\n",
      "Paathshaala\n",
      "Padmaavat\n",
      "Padmashree Laloo Prasad Yadav\n",
      "Pagalpanti (2019 film)\n",
      "Page 3 (film)\n",
      "Paheli\n",
      "Paisa Vasool\n",
      "Pal Pal Dil Ke Paas\n",
      "Paltan (film)\n",
      "Panchlait\n",
      "Pankh\n",
      "Paranthe Wali Gali\n",
      "Parched\n",
      "Parineeta (2005 film)\n",
      "Parmanu: The Story of Pokhran\n",
      "Partner (2007 film)\n",
      "Parwana (2003 film)\n",
      "Pataakha\n",
      "Patel Ki Punjabi Shaadi\n",
      "Pati Patni Aur Woh (2019 film)\n",
      "Patiala House (film)\n",
      "Paying Guests\n",
      "Peepli Live\n",
      "Pehchaan: The Face of Truth\n",
      "Phamous\n",
      "Phantom (2015 film)\n",
      "Phas Gaye Re Obama\n",
      "Phata Poster Nikhla Hero\n",
      "Phhir\n",
      "Phillauri (film)\n",
      "Phir Hera Pheri\n",
      "Phir Kabhi\n",
      "Phir Milenge\n",
      "Phobia (2016 film)\n",
      "Phoonk 2\n",
      "Photograph (film)\n",
      "Pihu\n",
      "Piku\n",
      "Pinjar (film)\n",
      "Pink (2016 film)\n",
      "Pizza (2014 film)\n",
      "Plan (film)\n",
      "Players (2012 film)\n",
      "Police Force: An Inside Story\n",
      "Policegiri\n",
      "Popcorn Khao! Mast Ho Jao\n",
      "Poster Boys\n",
      "Praan Jaye Par Shaan Na Jaye\n",
      "Prague (2013 film)\n",
      "Pranaam\n",
      "Prassthanam\n",
      "Prateeksha\n",
      "Prem Kaa Game\n",
      "Prem Ratan Dhan Payo\n",
      "Prince (2010 film)\n",
      "Purani Jeans\n",
      "Pyaar Impossible!\n",
      "Pyaar Ka Punchnama\n",
      "Pyaar Ka Punchnama 2\n",
      "Pyaar Ke Side Effects\n",
      "Pyaar Mein Twist\n",
      "Pyare Mohan\n",
      "Qaidi Band\n",
      "Qarib Qarib Singlle\n",
      "Qayamat: City Under Threat\n",
      "Qissa (film)\n",
      "Queen (2014 film)\n",
      "Quick Gun Murugun\n",
      "Ra.One\n",
      "Raabta (film)\n",
      "Raag Desh (film)\n",
      "Raanjhanaa\n",
      "Raat Gayi Baat Gayi?\n",
      "Raavan\n",
      "Raaz (2002 film)\n",
      "Raaz: Reboot\n",
      "Raaz: The Mystery Continues\n",
      "Raazi\n",
      "Rab Ne Bana Di Jodi\n",
      "Race (2008 film)\n",
      "Race 2\n",
      "Race 3\n",
      "Raees (film)\n",
      "Raghu Romeo\n",
      "Ragini MMS\n",
      "Ragini MMS 2\n",
      "Rahasya\n",
      "Raid (2018 film)\n",
      "Raincoat (film)\n",
      "Raja Bhaiya (film)\n",
      "Raja Natwarlal\n",
      "Rajjo\n",
      "Rajma Chawal\n",
      "Rakht\n",
      "Rakhtbeej\n",
      "Ramaa: The Saviour\n",
      "Ramaiya Vastavaiya\n",
      "Raman Raghav 2.0\n",
      "Ramayana: The Epic\n",
      "Ramji Londonwaley\n",
      "Ramprasad Ki Tehrvi\n",
      "Ranbanka\n",
      "Ranchi Diaries\n",
      "Rang De Basanti\n",
      "Rang Rasiya\n",
      "Rangoon (2017 Hindi film)\n",
      "Rangrezz\n",
      "Rann (film)\n",
      "Raqeeb\n",
      "Rascals (2011 film)\n",
      "Rebellious Flower\n",
      "Red Alert: The War Within\n",
      "Red Swastik\n",
      "Red: The Dark Side\n",
      "Revati (film)\n",
      "Revolver Rani\n",
      "Ribbon (film)\n",
      "Right Here Right Now (film)\n",
      "Right Yaaa Wrong\n",
      "Risk (2007 film)\n",
      "Risknamaa\n",
      "Riyasat (film)\n",
      "Road to Sangam\n",
      "Roadside Romeo\n",
      "Roar: Tigers of the Sundarbans\n",
      "Rock On 2\n",
      "Rock On!!\n",
      "Rocket Singh: Salesman of the Year\n",
      "Rockstar (2011 film)\n",
      "Rocky Handsome\n",
      "Rog\n",
      "Rok Sako To Rok Lo\n",
      "Rokkk\n",
      "Rough Book\n",
      "Roy (film)\n",
      "Rudraksh (film)\n",
      "Rukh (film)\n",
      "Rules: Pyaar Ka Superhit Formula\n",
      "Run (2004 film)\n",
      "Running Shaadi\n",
      "Rush (2012 film)\n",
      "Rustom (film)\n",
      "Saaho\n",
      "Saand Ki Aankh\n",
      "Saankal\n",
      "Saansein\n",
      "Saare Jahaan Se Mehnga\n",
      "Saas Bahu Aur Sensex\n",
      "Saat Uchakkey\n",
      "Saathiya (film)\n",
      "Saawan... The Love Season\n",
      "Saawariya\n",
      "Saaya (2003 film)\n",
      "Sabki Bajegi Band\n",
      "Sachin: A Billion Dreams\n",
      "Sacred Evil – A True Story\n",
      "Sadda Adda\n",
      "Sadiyaan\n",
      "Saheb Biwi Aur Gangster\n",
      "Saheb Biwi Aur Gangster 3\n",
      "Saheb Biwi Aur Gangster Returns\n",
      "Sahi Dhandhe Galat Bande\n",
      "Salaam Namaste\n",
      "Salaam-e-Ishq: A Tribute to Love\n",
      "Sallu Ki Shaadi\n",
      "Samay: When Time Strikes\n",
      "Samrat & Co.\n",
      "Sanam Re\n",
      "Sandwich (2006 film)\n",
      "Sanju\n",
      "Sankat City\n",
      "Santa Banta Pvt Ltd\n",
      "Sarbjit (film)\n",
      "Sarhad Paar\n",
      "Sarkar (2005 film)\n",
      "Sarkar 3\n",
      "Sarkar Raj\n",
      "Satellite Shankar\n",
      "Satrangee Parachute\n",
      "Satta (film)\n",
      "Satya 2\n",
      "Satyagraha (film)\n",
      "Satyameva Jayate (2018 film)\n",
      "Say Salaam India\n",
      "Second Hand Husband\n",
      "Secret Superstar\n",
      "Section 375\n",
      "Sehar\n",
      "Setters (film)\n",
      "Shaadi Ka Laddoo\n",
      "Shaadi Karke Phas Gaya Yaar\n",
      "Shaadi Ke Side Effects\n",
      "Shaadi Mein Zaroor Aana\n",
      "Shaadi No. 1\n",
      "Shaadi Se Pehle\n",
      "Shaandaar\n",
      "Shaapit\n",
      "Shab (film)\n",
      "Shabd (film)\n",
      "Shabnam Mausi\n",
      "Shabri\n",
      "Shagird (2011 film)\n",
      "Shahid (film)\n",
      "Shaitan (film)\n",
      "Shakalaka Boom Boom\n",
      "Shamitabh\n",
      "Shanghai (2012 film)\n",
      "Sharafat Gayi Tel Lene\n",
      "Shart: The Challenge\n",
      "Sheen (film)\n",
      "Sheesha (2005 film)\n",
      "Shikhar (film)\n",
      "Ship of Theseus (film)\n",
      "Shirin Farhad Ki Toh Nikal Padi\n",
      "Shiva (2006 film)\n",
      "Shivaay\n",
      "Sholay\n",
      "Shootout at Lokhandwala\n",
      "Shor in the City\n",
      "Shorgul\n",
      "Shortcut Romeo\n",
      "Shortcut Safari\n",
      "Shortkut\n",
      "Showbiz (film)\n",
      "Shubh Mangal Saavdhan\n",
      "Shuddh Desi Romance\n",
      "Shukriya: Till Death Do Us Apart\n",
      "Siddharth (2013 film)\n",
      "Sikandar (2009 film)\n",
      "Silsiilay\n",
      "Simmba\n",
      "Simran (film)\n",
      "Singh Is Bliing\n",
      "Singh Is Kinng\n",
      "Singh Saab the Great\n",
      "Singham\n",
      "Singham Returns\n",
      "Sirf (film)\n",
      "Sixteen (2013 Indian film)\n",
      "Soch Lo\n",
      "Socha Na Tha\n",
      "Son of Sardaar\n",
      "Sonali Cable\n",
      "Sonchiriya\n",
      "Soni (film)\n",
      "Sons of Ram\n",
      "Sonu Ke Titu Ki Sweety\n",
      "Sooper Se Ooper\n",
      "Sorry Bhai!\n",
      "Sorry Daddy\n",
      "Souten: The Other Woman\n",
      "Spark (2014 film)\n",
      "Special 26\n",
      "Speed (2007 film)\n",
      "Sssshhh...\n",
      "Ssukh\n",
      "Stanley Ka Dabba\n",
      "Station (2014 film)\n",
      "Staying Alive (2012 film)\n",
      "Strangers (2007 Hindi film)\n",
      "Stree (2018 film)\n",
      "Striker (2010 film)\n",
      "Strings of Passion\n",
      "Student of the Year\n",
      "Student of the Year 2\n",
      "Stumped (film)\n",
      "Sui Dhaaga\n",
      "Sukhmani: Hope for Life\n",
      "Sulemani Keeda\n",
      "Sultan (2016 film)\n",
      "Summer 2007\n",
      "Sunday (2008 film)\n",
      "Sunglass (film)\n",
      "Suno Sasurjee\n",
      "Super 30 (film)\n",
      "Super Model (film)\n",
      "Super Nani\n",
      "Swades\n",
      "Swami (2007 film)\n",
      "Sweetiee Weds NRI\n",
      "Ta Ra Rum Pum\n",
      "Taare Zameen Par\n",
      "Taarzan: The Wonder Car\n",
      "Table No. 21\n",
      "Tahaan\n",
      "Taj Mahal: An Eternal Love Story\n",
      "Take It Easy (2015 film)\n",
      "Talaash: The Answer Lies Within\n",
      "Talaash: The Hunt Begins...\n",
      "Talvar (film)\n",
      "Tamanchey\n",
      "Tango Charlie\n",
      "Tanu Weds Manu\n",
      "Tanu Weds Manu: Returns\n",
      "Tanu Weds Manu: Returns\n",
      "Tashan (film)\n",
      "Tathastu\n",
      "Taxi No. 9211\n",
      "Te3n\n",
      "Teen Patti (film)\n",
      "Teen Thay Bhai\n",
      "Tees Maar Khan (2010 film)\n",
      "Teesri Aankh: The Hidden Camera\n",
      "Tehzeeb (2003 film)\n",
      "Tell Me O Kkhuda\n",
      "Tera Kya Hoga Johnny\n",
      "Tere Bin Laden\n",
      "Tere Bin Laden: Dead or Alive\n",
      "Tere Mere Phere\n",
      "Tere Naal Love Ho Gaya\n",
      "Tere Naam\n",
      "Teri Meri Kahaani (film)\n",
      "Tevar\n",
      "Tezz\n",
      "Thackeray (film)\n",
      "Thank You (2011 film)\n",
      "Thanks Maa\n",
      "The Accidental Prime Minister (film)\n",
      "The Blue Umbrella (2005 film)\n",
      "The Blueberry Hunt\n",
      "The Bypass\n",
      "The Dirty Picture\n",
      "The Film\n",
      "The Film Emotional Atyachar\n",
      "The Final Exit\n",
      "The Ghazi Attack\n",
      "The Hero: Love Story of a Spy\n",
      "The Japanese Wife\n",
      "The Journey of Karma\n",
      "The Killer (2006 film)\n",
      "The Last Lear\n",
      "The Lunchbox\n",
      "The Namesake (film)\n",
      "The Pink Mirror\n",
      "The Shaukeens\n",
      "The Silent Heroes\n",
      "The Sky Is Pink\n",
      "The Stoneman Murders\n",
      "The Tashkent Files\n",
      "The Train (2007 film)\n",
      "The Xposé\n",
      "The Zoya Factor (film)\n",
      "Thoda Lutf Thoda Ishq\n",
      "Thoda Pyaar Thoda Magic\n",
      "Thoda Tum Badlo Thoda Hum\n",
      "Thodi Life Thoda Magic\n",
      "Thugs of Hindostan\n",
      "Tiger Zinda Hai\n",
      "Titli (2014 film)\n",
      "Titoo MBA\n",
      "Toh Baat Pakki!\n",
      "Toilet: Ek Prem Katha\n",
      "Tom Dick and Harry (2006 film)\n",
      "Toonpur Ka Super Hero\n",
      "Total Dhamaal\n",
      "Total Siyapaa\n",
      "Traffic (2016 film)\n",
      "Traffic Signal (film)\n",
      "Trapped (2016 Hindi film)\n",
      "Trump Card (film)\n",
      "Tubelight (2017 Hindi film)\n",
      "Tujhe Meri Kasam\n",
      "Tulsi (film)\n",
      "Tum Bin II\n",
      "Tum Mile\n",
      "Tum Milo Toh Sahi\n",
      "Tumbbad\n",
      "Tumhari Sulu\n",
      "Tumsa Nahin Dekha: A Love Story\n",
      "Turning 30\n",
      "U Me Aur Hum\n",
      "U R My Jaan\n",
      "Udaan (2010 film)\n",
      "Udta Punjab\n",
      "Ugly (film)\n",
      "Ujda Chaman\n",
      "Umar (film)\n",
      "Umrao Jaan (2006 film)\n",
      "Umrika\n",
      "Ungli\n",
      "Union Leader (film)\n",
      "United Six\n",
      "Uri: The Surgical Strike\n",
      "Utt Pataang\n",
      "Utthaan\n",
      "Uvaa\n",
      "Vaada (film)\n",
      "Vaada Raha\n",
      "Vaah! Life Ho Toh Aisi!\n",
      "Vaastu Shastra (film)\n",
      "Valentine's Night\n",
      "Veer (2010 film)\n",
      "Veer-Zaara\n",
      "Veerappan (2016 film)\n",
      "Veerey Ki Wedding\n",
      "Via Darjeeling\n",
      "Viceroy's House (film)\n",
      "Vicky Donor\n",
      "Victory (2009 film)\n",
      "Vidyaarthi\n",
      "Viruddh... Family Comes First\n",
      "Vishwaroopam\n",
      "Vivah\n",
      "Vodka Diaries\n",
      "W (2014 film)\n",
      "Waarrior Savitri\n",
      "Wafa: A Deadly Love Story\n",
      "Wah Taj\n",
      "Waisa Bhi Hota Hai Part II\n",
      "Waiting (2015 film)\n",
      "Wajah Tum Ho\n",
      "Wake Up India\n",
      "Wake Up Sid\n",
      "Wanted (2009 film)\n",
      "Waqt: The Race Against Time\n",
      "War Chhod Na Yaar\n",
      "Waris Shah: Ishq Daa Waaris\n",
      "Wedding Anniversary\n",
      "Wedding Pullav\n",
      "Welcome (2007 film)\n",
      "Welcome 2 Karachi\n",
      "Welcome Back (film)\n",
      "Welcome to Sajjanpur\n",
      "Well Done Abba\n",
      "What the Fish\n",
      "What's Your Raashee?\n",
      "Why Cheat India\n",
      "Woh Lamhe...\n",
      "Woodstock Villa\n",
      "Xcuse Me\n",
      "Ya Rab\n",
      "Yaaram (2019 film)\n",
      "Yadvi – The Dignified Princess\n",
      "Yakeen (2005 film)\n",
      "Yamla Pagla Deewana\n",
      "Yamla Pagla Deewana: Phir Se\n",
      "Yatra (2007 film)\n",
      "Yeh Dil\n",
      "Yeh Dooriyan\n",
      "Yeh Hai Bakrapur\n",
      "Yeh Hai India\n",
      "Yeh Jawaani Hai Deewani\n",
      "Yeh Khula Aasmaan\n",
      "Yeh Lamhe Judaai Ke\n",
      "Yeh Mera India\n",
      "Yeh Saali Aashiqui\n",
      "Youngistaan\n",
      "Yun Hota Toh Kya Hota\n",
      "Yuva\n",
      "Yuvvraaj\n",
      "Zamaanat\n",
      "Zameen (2003 film)\n",
      "Zameer: The Fire Within\n",
      "Zed Plus\n",
      "Zeher\n",
      "Zero (2018 film)\n",
      "Zid (2014 film)\n",
      "Zila Ghaziabad\n",
      "Zinda (film)\n",
      "Zindaggi Rocks\n",
      "Zindagi 50-50\n",
      "Zindagi Na Milegi Dobara\n",
      "Zindagi Tere Naam\n",
      "Zokkomon\n",
      "Zor Lagaa Ke...Haiya!\n"
     ]
    }
   ],
   "source": [
    "#looping\n",
    "for i in movies.index:\n",
    "    print(i)"
   ]
  },
  {
   "cell_type": "code",
   "execution_count": 271,
   "id": "5255664a",
   "metadata": {},
   "outputs": [
    {
     "data": {
      "text/plain": [
       "maths      33\n",
       "english     0\n",
       "science    11\n",
       "hindi       0\n",
       "sst        10\n",
       "Name: Sahil ke Marks, dtype: int64"
      ]
     },
     "execution_count": 271,
     "metadata": {},
     "output_type": "execute_result"
    }
   ],
   "source": [
    "#Arithmetic Operator(Broadcasting /it means we can apply one operation on all values )\n",
    "100-marks_series"
   ]
  },
  {
   "cell_type": "code",
   "execution_count": 272,
   "id": "fa81d302",
   "metadata": {},
   "outputs": [
    {
     "data": {
      "text/plain": [
       "match_no\n",
       "1      False\n",
       "2      False\n",
       "3      False\n",
       "4      False\n",
       "5      False\n",
       "       ...  \n",
       "211    False\n",
       "212    False\n",
       "213     True\n",
       "214    False\n",
       "215    False\n",
       "Name: runs, Length: 215, dtype: bool"
      ]
     },
     "execution_count": 272,
     "metadata": {},
     "output_type": "execute_result"
    }
   ],
   "source": [
    "#Relational operators\n",
    "vk>=50"
   ]
  },
  {
   "cell_type": "markdown",
   "id": "77a04c5d",
   "metadata": {},
   "source": [
    "# Boolean Indexing on Series"
   ]
  },
  {
   "cell_type": "code",
   "execution_count": 275,
   "id": "2385823f",
   "metadata": {},
   "outputs": [
    {
     "data": {
      "text/plain": [
       "50"
      ]
     },
     "execution_count": 275,
     "metadata": {},
     "output_type": "execute_result"
    }
   ],
   "source": [
    "#Find no of 50's and 100's scored by kohli\n",
    "vk[vk>=50].size"
   ]
  },
  {
   "cell_type": "code",
   "execution_count": 278,
   "id": "963fd81d",
   "metadata": {},
   "outputs": [
    {
     "data": {
      "text/plain": [
       "9"
      ]
     },
     "execution_count": 278,
     "metadata": {},
     "output_type": "execute_result"
    }
   ],
   "source": [
    "#Find number of ducks\n",
    "vk[vk==0].size"
   ]
  },
  {
   "cell_type": "code",
   "execution_count": 281,
   "id": "8dc63700",
   "metadata": {},
   "outputs": [
    {
     "data": {
      "text/plain": [
       "59"
      ]
     },
     "execution_count": 281,
     "metadata": {},
     "output_type": "execute_result"
    }
   ],
   "source": [
    "#Count number of day when I had more than 200 subscriber a day\n",
    "subs[subs>200].size"
   ]
  },
  {
   "cell_type": "code",
   "execution_count": 309,
   "id": "b7588ffc",
   "metadata": {},
   "outputs": [
    {
     "data": {
      "text/plain": [
       "Akshay Kumar        48\n",
       "Amitabh Bachchan    45\n",
       "Ajay Devgn          38\n",
       "Salman Khan         31\n",
       "Sanjay Dutt         26\n",
       "Shah Rukh Khan      22\n",
       "Emraan Hashmi       21\n",
       "Name: lead, dtype: int64"
      ]
     },
     "execution_count": 309,
     "metadata": {},
     "output_type": "execute_result"
    }
   ],
   "source": [
    "#Find the actor who have done more than 20 movies\n",
    "num_movies=movies.value_counts()\n",
    "num_movies[num_movies>20]"
   ]
  },
  {
   "cell_type": "markdown",
   "id": "01cbbe4d",
   "metadata": {},
   "source": [
    "# Plotting Graphs on Series "
   ]
  },
  {
   "cell_type": "code",
   "execution_count": 311,
   "id": "03bc4722",
   "metadata": {},
   "outputs": [
    {
     "data": {
      "text/plain": [
       "<Axes: >"
      ]
     },
     "execution_count": 311,
     "metadata": {},
     "output_type": "execute_result"
    },
    {
     "data": {
      "image/png": "[encoded data removed]",
      "text/plain": [
       "<Figure size 640x480 with 1 Axes>"
      ]
     },
     "metadata": {},
     "output_type": "display_data"
    }
   ],
   "source": [
    "subs.plot()"
   ]
  },
  {
   "cell_type": "code",
   "execution_count": 315,
   "id": "064a1be2",
   "metadata": {},
   "outputs": [
    {
     "data": {
      "text/plain": [
       "<Axes: ylabel='lead'>"
      ]
     },
     "execution_count": 315,
     "metadata": {},
     "output_type": "execute_result"
    },
    {
     "data": {
      "image/png": "[encoded data removed]",
      "text/plain": [
       "<Figure size 640x480 with 1 Axes>"
      ]
     },
     "metadata": {},
     "output_type": "display_data"
    }
   ],
   "source": [
    "movies.value_counts().head(20).plot(kind='pie')"
   ]
  },
  {
   "cell_type": "code",
   "execution_count": null,
   "id": "5ae9664c",
   "metadata": {},
   "outputs": [],
   "source": []
  }
 ],
 "metadata": {
  "kernelspec": {
   "display_name": "Python 3 (ipykernel)",
   "language": "python",
   "name": "python3"
  },
  "language_info": {
   "codemirror_mode": {
    "name": "ipython",
    "version": 3
   },
   "file_extension": ".py",
   "mimetype": "text/x-python",
   "name": "python",
   "nbconvert_exporter": "python",
   "pygments_lexer": "ipython3",
   "version": "3.10.9"
  }
 },
 "nbformat": 4,
 "nbformat_minor": 5
}
